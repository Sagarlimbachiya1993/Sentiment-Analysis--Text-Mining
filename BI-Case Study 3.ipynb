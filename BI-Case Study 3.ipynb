{
 "cells": [
  {
   "cell_type": "code",
   "execution_count": 5,
   "id": "71000f1e",
   "metadata": {},
   "outputs": [
    {
     "name": "stdout",
     "output_type": "stream",
     "text": [
      "             Clothing ID Age  \\\n",
      "0          0         767  33   \n",
      "1          1        1080  34   \n",
      "2          2        1077  60   \n",
      "3          3        1049  50   \n",
      "4          4         847  47   \n",
      "...      ...         ...  ..   \n",
      "23481  23481        1104  34   \n",
      "23482  23482         862  48   \n",
      "23483  23483        1104  31   \n",
      "23484  23484        1084  28   \n",
      "23485  23485        1104  52   \n",
      "\n",
      "                                                   Title  \\\n",
      "0                                                          \n",
      "1                                                          \n",
      "2                                Some major design flaws   \n",
      "3                                       My favorite buy!   \n",
      "4                                       Flattering shirt   \n",
      "...                                                  ...   \n",
      "23481                     Great dress for many occasions   \n",
      "23482                         Wish it was made of cotton   \n",
      "23483                              Cute, but see through   \n",
      "23484  Very cute dress, perfect for summer parties an...   \n",
      "23485                    Please make more like this one!   \n",
      "\n",
      "                                             Review Text Rating  \\\n",
      "0      Absolutely wonderful - silky and sexy and comf...      4   \n",
      "1      Love this dress!  it's sooo pretty.  i happene...      5   \n",
      "2      I had such high hopes for this dress and reall...      3   \n",
      "3      I love, love, love this jumpsuit. it's fun, fl...      5   \n",
      "4      This shirt is very flattering to all due to th...      5   \n",
      "...                                                  ...    ...   \n",
      "23481  I was very happy to snag this dress at such a ...      5   \n",
      "23482  It reminds me of maternity clothes. soft, stre...      3   \n",
      "23483  This fit well, but the top was very see throug...      3   \n",
      "23484  I bought this dress for a wedding i have this ...      3   \n",
      "23485  This dress in a lovely platinum is feminine an...      5   \n",
      "\n",
      "      Recommended IND Positive Feedback Count   Division Name Department Name  \\\n",
      "0                   1                       0       Initmates        Intimate   \n",
      "1                   1                       4         General         Dresses   \n",
      "2                   0                       0         General         Dresses   \n",
      "3                   1                       0  General Petite         Bottoms   \n",
      "4                   1                       6         General            Tops   \n",
      "...               ...                     ...             ...             ...   \n",
      "23481               1                       0  General Petite         Dresses   \n",
      "23482               1                       0  General Petite            Tops   \n",
      "23483               0                       1  General Petite         Dresses   \n",
      "23484               1                       2         General         Dresses   \n",
      "23485               1                      22  General Petite         Dresses   \n",
      "\n",
      "      Class Name  \n",
      "0      Intimates  \n",
      "1        Dresses  \n",
      "2        Dresses  \n",
      "3          Pants  \n",
      "4        Blouses  \n",
      "...          ...  \n",
      "23481    Dresses  \n",
      "23482      Knits  \n",
      "23483    Dresses  \n",
      "23484    Dresses  \n",
      "23485    Dresses  \n",
      "\n",
      "[23486 rows x 11 columns]\n"
     ]
    }
   ],
   "source": [
    "import json\n",
    "import pandas as pd\n",
    "\n",
    "# Path to your JSON file\n",
    "json_file_path = 'C:\\\\Users\\\\USER\\\\Dropbox\\\\PC\\\\Downloads\\\\reviews.json'\n",
    "\n",
    "# Read JSON file\n",
    "with open(json_file_path, 'r') as json_file:\n",
    "    json_data = json.load(json_file)\n",
    "\n",
    "# Convert JSON data to a Pandas DataFrame\n",
    "df = pd.DataFrame(json_data)\n",
    "\n",
    "# Display the DataFrame\n",
    "print(df)\n"
   ]
  },
  {
   "cell_type": "code",
   "execution_count": 6,
   "id": "3767c7ea",
   "metadata": {},
   "outputs": [
    {
     "name": "stderr",
     "output_type": "stream",
     "text": [
      "[nltk_data] Downloading package stopwords to\n",
      "[nltk_data]     C:\\Users\\USER\\AppData\\Roaming\\nltk_data...\n",
      "[nltk_data]   Unzipping corpora\\stopwords.zip.\n",
      "[nltk_data] Downloading package punkt to\n",
      "[nltk_data]     C:\\Users\\USER\\AppData\\Roaming\\nltk_data...\n",
      "[nltk_data]   Unzipping tokenizers\\punkt.zip.\n",
      "[nltk_data] Downloading package wordnet to\n",
      "[nltk_data]     C:\\Users\\USER\\AppData\\Roaming\\nltk_data...\n"
     ]
    },
    {
     "data": {
      "text/plain": [
       "True"
      ]
     },
     "execution_count": 6,
     "metadata": {},
     "output_type": "execute_result"
    }
   ],
   "source": [
    "import pandas as pd\n",
    "import re\n",
    "import nltk\n",
    "from nltk.corpus import stopwords\n",
    "from nltk.tokenize import word_tokenize\n",
    "from nltk.stem import WordNetLemmatizer\n",
    "nltk.download('stopwords')\n",
    "nltk.download('punkt')\n",
    "nltk.download('wordnet')"
   ]
  },
  {
   "cell_type": "code",
   "execution_count": 7,
   "id": "bafa63f3",
   "metadata": {},
   "outputs": [
    {
     "name": "stdout",
     "output_type": "stream",
     "text": [
      "                                             Review Text  \\\n",
      "0      Absolutely wonderful - silky and sexy and comf...   \n",
      "1      Love this dress!  it's sooo pretty.  i happene...   \n",
      "2      I had such high hopes for this dress and reall...   \n",
      "3      I love, love, love this jumpsuit. it's fun, fl...   \n",
      "4      This shirt is very flattering to all due to th...   \n",
      "...                                                  ...   \n",
      "23481  I was very happy to snag this dress at such a ...   \n",
      "23482  It reminds me of maternity clothes. soft, stre...   \n",
      "23483  This fit well, but the top was very see throug...   \n",
      "23484  I bought this dress for a wedding i have this ...   \n",
      "23485  This dress in a lovely platinum is feminine an...   \n",
      "\n",
      "                                     Review Text Cleaned  \n",
      "0            absolutely wonderful silky sexy comfortable  \n",
      "1      love dress sooo pretty happened find store im ...  \n",
      "2      high hope dress really wanted work initially o...  \n",
      "3      love love love jumpsuit fun flirty fabulous ev...  \n",
      "4      shirt flattering due adjustable front tie perf...  \n",
      "...                                                  ...  \n",
      "23481  happy snag dress great price easy slip flatter...  \n",
      "23482  reminds maternity clothes soft stretchy shiny ...  \n",
      "23483  fit well top see never would worked im glad ab...  \n",
      "23484  bought dress wedding summer cute unfortunately...  \n",
      "23485  dress lovely platinum feminine fit perfectly e...  \n",
      "\n",
      "[23486 rows x 2 columns]\n"
     ]
    }
   ],
   "source": [
    "# Preprocessing function\n",
    "def preprocess_text(text):\n",
    "    # Convert text to lowercase\n",
    "    text = text.lower()\n",
    "    \n",
    "    # Remove special characters and digits\n",
    "    text = re.sub(r'[^a-zA-Z\\s]', '', text)\n",
    "    \n",
    "    # Tokenization\n",
    "    tokens = word_tokenize(text)\n",
    "    \n",
    "    # Remove stopwords\n",
    "    stop_words = set(stopwords.words('english'))\n",
    "    filtered_tokens = [word for word in tokens if word not in stop_words]\n",
    "    \n",
    "    # Lemmatization\n",
    "    lemmatizer = WordNetLemmatizer()\n",
    "    lemmatized_tokens = [lemmatizer.lemmatize(word) for word in filtered_tokens]\n",
    "    \n",
    "    # Join tokens back into a single string\n",
    "    processed_text = ' '.join(lemmatized_tokens)\n",
    "    \n",
    "    return processed_text\n",
    "\n",
    "# Apply preprocessing function to 'Review Text' column in the existing DataFrame 'df'\n",
    "df['Review Text Cleaned'] = df['Review Text'].apply(preprocess_text)\n",
    "\n",
    "# Display the DataFrame with the cleaned text\n",
    "print(df[['Review Text', 'Review Text Cleaned']])"
   ]
  },
  {
   "cell_type": "code",
   "execution_count": 9,
   "id": "a67d837c",
   "metadata": {},
   "outputs": [
    {
     "name": "stdout",
     "output_type": "stream",
     "text": [
      "Accuracy: 0.90\n",
      "\n",
      "Classification Report:\n",
      "              precision    recall  f1-score   support\n",
      "\n",
      "    negative       0.53      0.37      0.43       470\n",
      "    positive       0.93      0.96      0.95      4228\n",
      "\n",
      "    accuracy                           0.90      4698\n",
      "   macro avg       0.73      0.67      0.69      4698\n",
      "weighted avg       0.89      0.90      0.90      4698\n",
      "\n"
     ]
    }
   ],
   "source": [
    "from sklearn.model_selection import train_test_split\n",
    "from sklearn.feature_extraction.text import CountVectorizer\n",
    "from sklearn.linear_model import LogisticRegression\n",
    "from sklearn.metrics import accuracy_score, classification_report\n",
    "\n",
    "# Convert 'Rating' column to numeric values\n",
    "df['Rating'] = pd.to_numeric(df['Rating'], errors='coerce')  # Convert non-convertible values to NaN\n",
    "\n",
    "# Drop rows with NaN values in 'Rating' column\n",
    "df.dropna(subset=['Rating'], inplace=True)\n",
    "\n",
    "# Data Labeling based on 'Rating' column\n",
    "df['Sentiment'] = df['Rating'].apply(lambda x: 'positive' if x >= 3 else 'negative')\n",
    "\n",
    "# Data Splitting\n",
    "X = df['Review Text']\n",
    "y = df['Sentiment']\n",
    "X_train, X_test, y_train, y_test = train_test_split(X, y, test_size=0.2, random_state=42)\n",
    "    \n",
    "# Bag of Words Vectorization\n",
    "vectorizer = CountVectorizer(stop_words='english')\n",
    "X_train_vec = vectorizer.fit_transform(X_train)\n",
    "X_test_vec = vectorizer.transform(X_test)\n",
    "\n",
    "# Model Selection and Training (using Logistic Regression)\n",
    "model = LogisticRegression(max_iter=1000)\n",
    "model.fit(X_train_vec, y_train)\n",
    "\n",
    "# Model Evaluation\n",
    "y_pred = model.predict(X_test_vec)\n",
    "accuracy = accuracy_score(y_test, y_pred)\n",
    "print(f\"Accuracy: {accuracy:.2f}\")\n",
    "\n",
    "print(\"\\nClassification Report:\")\n",
    "print(classification_report(y_test, y_pred))\n"
   ]
  },
  {
   "cell_type": "code",
   "execution_count": 33,
   "id": "7ee6bfef",
   "metadata": {},
   "outputs": [
    {
     "name": "stdout",
     "output_type": "stream",
     "text": [
      "Predicted Sentiment: positive\n"
     ]
    }
   ],
   "source": [
    "# Sample text review for testing\n",
    "test_review = \"This jumpsuit runs large so i sized down perfectly one full size down. i have a size b chest and was very comfortable with no bra, as the built in cups gave me the perfect coverage. it looked like a dress standing, but had such a flattering and fun shape when you move. everyone loved it!\"\n",
    "\n",
    "# Preprocess the input review\n",
    "processed_review = preprocess_text(test_review)\n",
    "\n",
    "# Vectorize the preprocessed review\n",
    "processed_review_vec = vectorizer.transform([processed_review])\n",
    "\n",
    "# Make predictions using the trained model\n",
    "predicted_sentiment = model.predict(processed_review_vec)\n",
    "\n",
    "# Print the predicted sentiment\n",
    "print(f\"Predicted Sentiment: {predicted_sentiment[0]}\")\n"
   ]
  }
 ],
 "metadata": {
  "kernelspec": {
   "display_name": "Python 3 (ipykernel)",
   "language": "python",
   "name": "python3"
  },
  "language_info": {
   "codemirror_mode": {
    "name": "ipython",
    "version": 3
   },
   "file_extension": ".py",
   "mimetype": "text/x-python",
   "name": "python",
   "nbconvert_exporter": "python",
   "pygments_lexer": "ipython3",
   "version": "3.9.7"
  }
 },
 "nbformat": 4,
 "nbformat_minor": 5
}
